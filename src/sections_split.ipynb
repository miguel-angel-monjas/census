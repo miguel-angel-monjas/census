{
 "cells": [
  {
   "cell_type": "code",
   "execution_count": 1,
   "metadata": {},
   "outputs": [],
   "source": [
    "import json"
   ]
  },
  {
   "cell_type": "code",
   "execution_count": 3,
   "metadata": {},
   "outputs": [
    {
     "name": "stdout",
     "output_type": "stream",
     "text": [
      "dict_keys(['type', 'features'])\n"
     ]
    }
   ],
   "source": [
    "with open('SECC_CE_20190101.json', encoding=\"utf8\") as json_file:\n",
    "    data = json.load(json_file)\n",
    "    print (data.keys())"
   ]
  },
  {
   "cell_type": "code",
   "execution_count": 11,
   "metadata": {},
   "outputs": [],
   "source": [
    "aut_com = ['Andalucía',\n",
    " 'Aragón',\n",
    " 'Canarias',\n",
    " 'Cantabria',\n",
    " 'Castilla y León',\n",
    " 'Castilla-La Mancha',\n",
    " 'Cataluña',\n",
    " 'Ceuta',\n",
    " 'Comunidad Foral de Navarra',\n",
    " 'Comunidad de Madrid',\n",
    " 'Comunitat Valenciana',\n",
    " 'Extremadura',\n",
    " 'Galicia',\n",
    " 'Illes Balears',\n",
    " 'La Rioja',\n",
    " 'Melilla',\n",
    " 'País Vasco',\n",
    " 'Principado de Asturias',\n",
    " 'Región de Murcia']"
   ]
  },
  {
   "cell_type": "code",
   "execution_count": 20,
   "metadata": {},
   "outputs": [],
   "source": [
    "iso_codes = ['ES-AN', 'ES-AR', 'ES-CN', 'ES-CB', 'ES-CL', 'ES-CM', 'ES-CT', 'ES-CE', 'ES-NC', \n",
    "             'ES-MD', 'ES-VC', 'ES-EX', 'ES-GA', 'ES-IB', 'ES-RI', 'ES-ML', 'ES-PV', 'ES-AS', 'ES-MC']"
   ]
  },
  {
   "cell_type": "code",
   "execution_count": 21,
   "metadata": {},
   "outputs": [],
   "source": [
    "for i, com in enumerate(aut_com):\n",
    "    container = {'type': 'FeatureCollection', 'features':None}\n",
    "    features = [item for item in data['features'] if item['properties']['NCA'] == com]\n",
    "    container['features'] = features\n",
    "    with open(f'SECC_CE_{iso_codes[i]}_20190101.json', 'w', encoding=\"utf8\") as outfile:\n",
    "        json.dump(container, outfile, ensure_ascii=False)"
   ]
  },
  {
   "cell_type": "code",
   "execution_count": null,
   "metadata": {},
   "outputs": [],
   "source": []
  }
 ],
 "metadata": {
  "kernelspec": {
   "display_name": "Python 3",
   "language": "python",
   "name": "python3"
  },
  "language_info": {
   "codemirror_mode": {
    "name": "ipython",
    "version": 3
   },
   "file_extension": ".py",
   "mimetype": "text/x-python",
   "name": "python",
   "nbconvert_exporter": "python",
   "pygments_lexer": "ipython3",
   "version": "3.7.3"
  }
 },
 "nbformat": 4,
 "nbformat_minor": 2
}
